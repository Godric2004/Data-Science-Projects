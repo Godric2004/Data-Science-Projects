{
  "cells": [
    {
      "cell_type": "markdown",
      "metadata": {
        "id": "view-in-github",
        "colab_type": "text"
      },
      "source": [
        "<a href=\"https://colab.research.google.com/github/Godric2004/Data-Science-Projects/blob/main/environment_data.ipynb\" target=\"_parent\"><img src=\"https://colab.research.google.com/assets/colab-badge.svg\" alt=\"Open In Colab\"/></a>"
      ]
    },
    {
      "metadata": {
        "_uuid": "8f2839f25d086af736a60e9eeb907d3b93b6e0e5",
        "_cell_guid": "b1076dfc-b9ad-4769-8c92-a6c4dae69d19",
        "trusted": true,
        "colab": {
          "base_uri": "https://localhost:8080/",
          "height": 17
        },
        "id": "XvoSzbURbVrb",
        "outputId": "fd261d0c-8e65-49af-b18a-3dddd21ec1b6"
      },
      "cell_type": "code",
      "source": [
        "import numpy as np\n",
        "import pandas as pd\n",
        "import matplotlib.pyplot as plt\n",
        "import seaborn as sns\n",
        "import plotly.offline as py\n",
        "py.init_notebook_mode(connected=True)\n",
        "import plotly.graph_objs as go\n",
        "import plotly.tools as tls\n",
        "\n",
        "%matplotlib inline"
      ],
      "execution_count": null,
      "outputs": [
        {
          "output_type": "display_data",
          "data": {
            "text/html": [
              "        <script type=\"text/javascript\">\n",
              "        window.PlotlyConfig = {MathJaxConfig: 'local'};\n",
              "        if (window.MathJax && window.MathJax.Hub && window.MathJax.Hub.Config) {window.MathJax.Hub.Config({SVG: {font: \"STIX-Web\"}});}\n",
              "        if (typeof require !== 'undefined') {\n",
              "        require.undef(\"plotly\");\n",
              "        requirejs.config({\n",
              "            paths: {\n",
              "                'plotly': ['https://cdn.plot.ly/plotly-2.24.1.min']\n",
              "            }\n",
              "        });\n",
              "        require(['plotly'], function(Plotly) {\n",
              "            window._Plotly = Plotly;\n",
              "        });\n",
              "        }\n",
              "        </script>\n",
              "        "
            ]
          },
          "metadata": {}
        }
      ]
    },
    {
      "metadata": {
        "trusted": true,
        "id": "giR8ESMQbVro"
      },
      "cell_type": "code",
      "source": [
        "global_country = pd.read_csv('')"
      ],
      "execution_count": null,
      "outputs": []
    },
    {
      "metadata": {
        "id": "p-6T-joAbVro"
      },
      "cell_type": "markdown",
      "source": [
        "### Exploring the data"
      ]
    },
    {
      "metadata": {
        "trusted": true,
        "id": "_S1wzn8PbVrq",
        "outputId": "c86abba4-9796-4603-8f01-244fbcd6994d"
      },
      "cell_type": "code",
      "source": [
        "global_country.head()"
      ],
      "execution_count": null,
      "outputs": [
        {
          "output_type": "execute_result",
          "execution_count": 79,
          "data": {
            "text/plain": "           dt  AverageTemperature  AverageTemperatureUncertainty Country\n0  1743-11-01               4.384                          2.294   Åland\n1  1743-12-01                 NaN                            NaN   Åland\n2  1744-01-01                 NaN                            NaN   Åland\n3  1744-02-01                 NaN                            NaN   Åland\n4  1744-03-01                 NaN                            NaN   Åland",
            "text/html": "<div>\n<style scoped>\n    .dataframe tbody tr th:only-of-type {\n        vertical-align: middle;\n    }\n\n    .dataframe tbody tr th {\n        vertical-align: top;\n    }\n\n    .dataframe thead th {\n        text-align: right;\n    }\n</style>\n<table border=\"1\" class=\"dataframe\">\n  <thead>\n    <tr style=\"text-align: right;\">\n      <th></th>\n      <th>dt</th>\n      <th>AverageTemperature</th>\n      <th>AverageTemperatureUncertainty</th>\n      <th>Country</th>\n    </tr>\n  </thead>\n  <tbody>\n    <tr>\n      <th>0</th>\n      <td>1743-11-01</td>\n      <td>4.384</td>\n      <td>2.294</td>\n      <td>Åland</td>\n    </tr>\n    <tr>\n      <th>1</th>\n      <td>1743-12-01</td>\n      <td>NaN</td>\n      <td>NaN</td>\n      <td>Åland</td>\n    </tr>\n    <tr>\n      <th>2</th>\n      <td>1744-01-01</td>\n      <td>NaN</td>\n      <td>NaN</td>\n      <td>Åland</td>\n    </tr>\n    <tr>\n      <th>3</th>\n      <td>1744-02-01</td>\n      <td>NaN</td>\n      <td>NaN</td>\n      <td>Åland</td>\n    </tr>\n    <tr>\n      <th>4</th>\n      <td>1744-03-01</td>\n      <td>NaN</td>\n      <td>NaN</td>\n      <td>Åland</td>\n    </tr>\n  </tbody>\n</table>\n</div>"
          },
          "metadata": {}
        }
      ]
    },
    {
      "metadata": {
        "trusted": true,
        "colab": {
          "base_uri": "https://localhost:8080/"
        },
        "id": "1B3Z7yBdbVrq",
        "outputId": "786d36f3-b94d-44da-90af-2c1204b30a91"
      },
      "cell_type": "code",
      "source": [
        "global_country.shape"
      ],
      "execution_count": null,
      "outputs": [
        {
          "output_type": "execute_result",
          "data": {
            "text/plain": [
              "(3192, 9)"
            ]
          },
          "metadata": {},
          "execution_count": 4
        }
      ]
    },
    {
      "metadata": {
        "trusted": true,
        "id": "VbJqAXpKbVrr"
      },
      "cell_type": "code",
      "source": [
        "sort_by_temp_desc = global_country.sort_values('AverageTemperature', ascending=False)\n",
        "sort_by_temp_desc"
      ],
      "execution_count": null,
      "outputs": []
    },
    {
      "metadata": {
        "id": "Z3KNAQikbVrr"
      },
      "cell_type": "markdown",
      "source": [
        "### Visualising the upward trend"
      ]
    },
    {
      "metadata": {
        "trusted": true,
        "id": "EM3EMsLFbVrs"
      },
      "cell_type": "code",
      "source": [
        "global_temp = pd.read_csv('/content/GlobalTemperatures.csv')"
      ],
      "execution_count": null,
      "outputs": []
    },
    {
      "metadata": {
        "trusted": true,
        "colab": {
          "base_uri": "https://localhost:8080/",
          "height": 875
        },
        "id": "ooqcjeCAbVrs",
        "outputId": "445d55fc-f30e-4b09-c4e3-401cd8a689e2"
      },
      "cell_type": "code",
      "source": [
        "global_temp = global_temp[['dt', 'LandAndOceanAverageTemperature']]\n",
        "global_temp.dropna(inplace=True)\n",
        "global_temp['dt'] = pd.to_datetime(global_temp.dt).dt.strftime('%d/%m/%Y')\n",
        "global_temp['dt'] = global_temp['dt'].apply(lambda x:x[6:])\n",
        "global_temp = global_temp.groupby(['dt'])['LandAndOceanAverageTemperature'].mean().reset_index()\n",
        "\n",
        "plt.figure(figsize =(16, 6))\n",
        "ax = sns.lineplot(\n",
        "    x = global_temp['dt'],\n",
        "    y = global_temp['LandAndOceanAverageTemperature'])\n",
        "ax.set_title('Average Global Temperature Movement')\n",
        "ax.set_ylabel('Average Global Temperature')\n",
        "ax.set_xlabel('Date (1750 - 2015)')\n",
        "ax.axes.get_xaxis().set_ticks([])\n",
        "ax"
      ],
      "execution_count": null,
      "outputs": [
        {
          "output_type": "stream",
          "name": "stderr",
          "text": [
            "<ipython-input-7-4cde1624b4d9>:2: SettingWithCopyWarning:\n",
            "\n",
            "\n",
            "A value is trying to be set on a copy of a slice from a DataFrame\n",
            "\n",
            "See the caveats in the documentation: https://pandas.pydata.org/pandas-docs/stable/user_guide/indexing.html#returning-a-view-versus-a-copy\n",
            "\n",
            "<ipython-input-7-4cde1624b4d9>:3: SettingWithCopyWarning:\n",
            "\n",
            "\n",
            "A value is trying to be set on a copy of a slice from a DataFrame.\n",
            "Try using .loc[row_indexer,col_indexer] = value instead\n",
            "\n",
            "See the caveats in the documentation: https://pandas.pydata.org/pandas-docs/stable/user_guide/indexing.html#returning-a-view-versus-a-copy\n",
            "\n",
            "<ipython-input-7-4cde1624b4d9>:4: SettingWithCopyWarning:\n",
            "\n",
            "\n",
            "A value is trying to be set on a copy of a slice from a DataFrame.\n",
            "Try using .loc[row_indexer,col_indexer] = value instead\n",
            "\n",
            "See the caveats in the documentation: https://pandas.pydata.org/pandas-docs/stable/user_guide/indexing.html#returning-a-view-versus-a-copy\n",
            "\n"
          ]
        },
        {
          "output_type": "execute_result",
          "data": {
            "text/plain": [
              "<Axes: title={'center': 'Average Global Temperature Movement'}, xlabel='Date (1750 - 2015)', ylabel='Average Global Temperature'>"
            ]
          },
          "metadata": {},
          "execution_count": 7
        },
        {
          "output_type": "display_data",
          "data": {
            "text/plain": [
              "<Figure size 1600x600 with 1 Axes>"
            ],
            "image/png": "[encoded data removed]"
          },
          "metadata": {}
        }
      ]
    },
    {
      "metadata": {
        "id": "wN3g5eO5bVrt"
      },
      "cell_type": "markdown",
      "source": [
        "### The above visualisation shows a clear upward trend in the average global temperature over the past years"
      ]
    },
    {
      "metadata": {
        "id": "7l6P5A4pbVrt"
      },
      "cell_type": "markdown",
      "source": [
        "Please be mindful that the data in the early years (1750) is likely to be a little less accurate due to the limits of the record keeping at the time"
      ]
    },
    {
      "metadata": {
        "id": "RY5wjmT5bVrt"
      },
      "cell_type": "markdown",
      "source": [
        "### Now I'll use machine learning to predict the future average global temperature"
      ]
    },
    {
      "metadata": {
        "trusted": true,
        "colab": {
          "base_uri": "https://localhost:8080/",
          "height": 423
        },
        "id": "Wldg5FpdbVrt",
        "outputId": "668b27f5-a99c-4028-e7f2-cc48ec9814a4"
      },
      "cell_type": "code",
      "source": [
        "global_temp"
      ],
      "execution_count": null,
      "outputs": [
        {
          "output_type": "execute_result",
          "data": {
            "text/plain": [
              "       dt  LandAndOceanAverageTemperature\n",
              "0    1850                       14.867167\n",
              "1    1851                       14.991833\n",
              "2    1852                       15.006500\n",
              "3    1853                       14.955167\n",
              "4    1854                       14.991000\n",
              "..    ...                             ...\n",
              "161  2011                       15.769500\n",
              "162  2012                       15.802333\n",
              "163  2013                       15.854417\n",
              "164  2014                       15.913000\n",
              "165  2015                       16.058583\n",
              "\n",
              "[166 rows x 2 columns]"
            ],
            "text/html": [
              "\n",
              "  <div id=\"df-ca8de391-42e8-4834-b477-a819b680d808\" class=\"colab-df-container\">\n",
              "    <div>\n",
              "<style scoped>\n",
              "    .dataframe tbody tr th:only-of-type {\n",
              "        vertical-align: middle;\n",
              "    }\n",
              "\n",
              "    .dataframe tbody tr th {\n",
              "        vertical-align: top;\n",
              "    }\n",
              "\n",
              "    .dataframe thead th {\n",
              "        text-align: right;\n",
              "    }\n",
              "</style>\n",
              "<table border=\"1\" class=\"dataframe\">\n",
              "  <thead>\n",
              "    <tr style=\"text-align: right;\">\n",
              "      <th></th>\n",
              "      <th>dt</th>\n",
              "      <th>LandAndOceanAverageTemperature</th>\n",
              "    </tr>\n",
              "  </thead>\n",
              "  <tbody>\n",
              "    <tr>\n",
              "      <th>0</th>\n",
              "      <td>1850</td>\n",
              "      <td>14.867167</td>\n",
              "    </tr>\n",
              "    <tr>\n",
              "      <th>1</th>\n",
              "      <td>1851</td>\n",
              "      <td>14.991833</td>\n",
              "    </tr>\n",
              "    <tr>\n",
              "      <th>2</th>\n",
              "      <td>1852</td>\n",
              "      <td>15.006500</td>\n",
              "    </tr>\n",
              "    <tr>\n",
              "      <th>3</th>\n",
              "      <td>1853</td>\n",
              "      <td>14.955167</td>\n",
              "    </tr>\n",
              "    <tr>\n",
              "      <th>4</th>\n",
              "      <td>1854</td>\n",
              "      <td>14.991000</td>\n",
              "    </tr>\n",
              "    <tr>\n",
              "      <th>...</th>\n",
              "      <td>...</td>\n",
              "      <td>...</td>\n",
              "    </tr>\n",
              "    <tr>\n",
              "      <th>161</th>\n",
              "      <td>2011</td>\n",
              "      <td>15.769500</td>\n",
              "    </tr>\n",
              "    <tr>\n",
              "      <th>162</th>\n",
              "      <td>2012</td>\n",
              "      <td>15.802333</td>\n",
              "    </tr>\n",
              "    <tr>\n",
              "      <th>163</th>\n",
              "      <td>2013</td>\n",
              "      <td>15.854417</td>\n",
              "    </tr>\n",
              "    <tr>\n",
              "      <th>164</th>\n",
              "      <td>2014</td>\n",
              "      <td>15.913000</td>\n",
              "    </tr>\n",
              "    <tr>\n",
              "      <th>165</th>\n",
              "      <td>2015</td>\n",
              "      <td>16.058583</td>\n",
              "    </tr>\n",
              "  </tbody>\n",
              "</table>\n",
              "<p>166 rows × 2 columns</p>\n",
              "</div>\n",
              "    <div class=\"colab-df-buttons\">\n",
              "\n",
              "  <div class=\"colab-df-container\">\n",
              "    <button class=\"colab-df-convert\" onclick=\"convertToInteractive('df-ca8de391-42e8-4834-b477-a819b680d808')\"\n",
              "            title=\"Convert this dataframe to an interactive table.\"\n",
              "            style=\"display:none;\">\n",
              "\n",
              "  <svg xmlns=\"http://www.w3.org/2000/svg\" height=\"24px\" viewBox=\"0 -960 960 960\">\n",
              "    <path d=\"M120-120v-720h720v720H120Zm60-500h600v-160H180v160Zm220 220h160v-160H400v160Zm0 220h160v-160H400v160ZM180-400h160v-160H180v160Zm440 0h160v-160H620v160ZM180-180h160v-160H180v160Zm440 0h160v-160H620v160Z\"/>\n",
              "  </svg>\n",
              "    </button>\n",
              "\n",
              "  <style>\n",
              "    .colab-df-container {\n",
              "      display:flex;\n",
              "      gap: 12px;\n",
              "    }\n",
              "\n",
              "    .colab-df-convert {\n",
              "      background-color: #E8F0FE;\n",
              "      border: none;\n",
              "      border-radius: 50%;\n",
              "      cursor: pointer;\n",
              "      display: none;\n",
              "      fill: #1967D2;\n",
              "      height: 32px;\n",
              "      padding: 0 0 0 0;\n",
              "      width: 32px;\n",
              "    }\n",
              "\n",
              "    .colab-df-convert:hover {\n",
              "      background-color: #E2EBFA;\n",
              "      box-shadow: 0px 1px 2px rgba(60, 64, 67, 0.3), 0px 1px 3px 1px rgba(60, 64, 67, 0.15);\n",
              "      fill: #174EA6;\n",
              "    }\n",
              "\n",
              "    .colab-df-buttons div {\n",
              "      margin-bottom: 4px;\n",
              "    }\n",
              "\n",
              "    [theme=dark] .colab-df-convert {\n",
              "      background-color: #3B4455;\n",
              "      fill: #D2E3FC;\n",
              "    }\n",
              "\n",
              "    [theme=dark] .colab-df-convert:hover {\n",
              "      background-color: #434B5C;\n",
              "      box-shadow: 0px 1px 3px 1px rgba(0, 0, 0, 0.15);\n",
              "      filter: drop-shadow(0px 1px 2px rgba(0, 0, 0, 0.3));\n",
              "      fill: #FFFFFF;\n",
              "    }\n",
              "  </style>\n",
              "\n",
              "    <script>\n",
              "      const buttonEl =\n",
              "        document.querySelector('#df-ca8de391-42e8-4834-b477-a819b680d808 button.colab-df-convert');\n",
              "      buttonEl.style.display =\n",
              "        google.colab.kernel.accessAllowed ? 'block' : 'none';\n",
              "\n",
              "      async function convertToInteractive(key) {\n",
              "        const element = document.querySelector('#df-ca8de391-42e8-4834-b477-a819b680d808');\n",
              "        const dataTable =\n",
              "          await google.colab.kernel.invokeFunction('convertToInteractive',\n",
              "                                                    [key], {});\n",
              "        if (!dataTable) return;\n",
              "\n",
              "        const docLinkHtml = 'Like what you see? Visit the ' +\n",
              "          '<a target=\"_blank\" href=https://colab.research.google.com/notebooks/data_table.ipynb>data table notebook</a>'\n",
              "          + ' to learn more about interactive tables.';\n",
              "        element.innerHTML = '';\n",
              "        dataTable['output_type'] = 'display_data';\n",
              "        await google.colab.output.renderOutput(dataTable, element);\n",
              "        const docLink = document.createElement('div');\n",
              "        docLink.innerHTML = docLinkHtml;\n",
              "        element.appendChild(docLink);\n",
              "      }\n",
              "    </script>\n",
              "  </div>\n",
              "\n",
              "\n",
              "<div id=\"df-657b8ba6-7f4d-414f-a985-6f809a20ce68\">\n",
              "  <button class=\"colab-df-quickchart\" onclick=\"quickchart('df-657b8ba6-7f4d-414f-a985-6f809a20ce68')\"\n",
              "            title=\"Suggest charts\"\n",
              "            style=\"display:none;\">\n",
              "\n",
              "<svg xmlns=\"http://www.w3.org/2000/svg\" height=\"24px\"viewBox=\"0 0 24 24\"\n",
              "     width=\"24px\">\n",
              "    <g>\n",
              "        <path d=\"M19 3H5c-1.1 0-2 .9-2 2v14c0 1.1.9 2 2 2h14c1.1 0 2-.9 2-2V5c0-1.1-.9-2-2-2zM9 17H7v-7h2v7zm4 0h-2V7h2v10zm4 0h-2v-4h2v4z\"/>\n",
              "    </g>\n",
              "</svg>\n",
              "  </button>\n",
              "\n",
              "<style>\n",
              "  .colab-df-quickchart {\n",
              "      --bg-color: #E8F0FE;\n",
              "      --fill-color: #1967D2;\n",
              "      --hover-bg-color: #E2EBFA;\n",
              "      --hover-fill-color: #174EA6;\n",
              "      --disabled-fill-color: #AAA;\n",
              "      --disabled-bg-color: #DDD;\n",
              "  }\n",
              "\n",
              "  [theme=dark] .colab-df-quickchart {\n",
              "      --bg-color: #3B4455;\n",
              "      --fill-color: #D2E3FC;\n",
              "      --hover-bg-color: #434B5C;\n",
              "      --hover-fill-color: #FFFFFF;\n",
              "      --disabled-bg-color: #3B4455;\n",
              "      --disabled-fill-color: #666;\n",
              "  }\n",
              "\n",
              "  .colab-df-quickchart {\n",
              "    background-color: var(--bg-color);\n",
              "    border: none;\n",
              "    border-radius: 50%;\n",
              "    cursor: pointer;\n",
              "    display: none;\n",
              "    fill: var(--fill-color);\n",
              "    height: 32px;\n",
              "    padding: 0;\n",
              "    width: 32px;\n",
              "  }\n",
              "\n",
              "  .colab-df-quickchart:hover {\n",
              "    background-color: var(--hover-bg-color);\n",
              "    box-shadow: 0 1px 2px rgba(60, 64, 67, 0.3), 0 1px 3px 1px rgba(60, 64, 67, 0.15);\n",
              "    fill: var(--button-hover-fill-color);\n",
              "  }\n",
              "\n",
              "  .colab-df-quickchart-complete:disabled,\n",
              "  .colab-df-quickchart-complete:disabled:hover {\n",
              "    background-color: var(--disabled-bg-color);\n",
              "    fill: var(--disabled-fill-color);\n",
              "    box-shadow: none;\n",
              "  }\n",
              "\n",
              "  .colab-df-spinner {\n",
              "    border: 2px solid var(--fill-color);\n",
              "    border-color: transparent;\n",
              "    border-bottom-color: var(--fill-color);\n",
              "    animation:\n",
              "      spin 1s steps(1) infinite;\n",
              "  }\n",
              "\n",
              "  @keyframes spin {\n",
              "    0% {\n",
              "      border-color: transparent;\n",
              "      border-bottom-color: var(--fill-color);\n",
              "      border-left-color: var(--fill-color);\n",
              "    }\n",
              "    20% {\n",
              "      border-color: transparent;\n",
              "      border-left-color: var(--fill-color);\n",
              "      border-top-color: var(--fill-color);\n",
              "    }\n",
              "    30% {\n",
              "      border-color: transparent;\n",
              "      border-left-color: var(--fill-color);\n",
              "      border-top-color: var(--fill-color);\n",
              "      border-right-color: var(--fill-color);\n",
              "    }\n",
              "    40% {\n",
              "      border-color: transparent;\n",
              "      border-right-color: var(--fill-color);\n",
              "      border-top-color: var(--fill-color);\n",
              "    }\n",
              "    60% {\n",
              "      border-color: transparent;\n",
              "      border-right-color: var(--fill-color);\n",
              "    }\n",
              "    80% {\n",
              "      border-color: transparent;\n",
              "      border-right-color: var(--fill-color);\n",
              "      border-bottom-color: var(--fill-color);\n",
              "    }\n",
              "    90% {\n",
              "      border-color: transparent;\n",
              "      border-bottom-color: var(--fill-color);\n",
              "    }\n",
              "  }\n",
              "</style>\n",
              "\n",
              "  <script>\n",
              "    async function quickchart(key) {\n",
              "      const quickchartButtonEl =\n",
              "        document.querySelector('#' + key + ' button');\n",
              "      quickchartButtonEl.disabled = true;  // To prevent multiple clicks.\n",
              "      quickchartButtonEl.classList.add('colab-df-spinner');\n",
              "      try {\n",
              "        const charts = await google.colab.kernel.invokeFunction(\n",
              "            'suggestCharts', [key], {});\n",
              "      } catch (error) {\n",
              "        console.error('Error during call to suggestCharts:', error);\n",
              "      }\n",
              "      quickchartButtonEl.classList.remove('colab-df-spinner');\n",
              "      quickchartButtonEl.classList.add('colab-df-quickchart-complete');\n",
              "    }\n",
              "    (() => {\n",
              "      let quickchartButtonEl =\n",
              "        document.querySelector('#df-657b8ba6-7f4d-414f-a985-6f809a20ce68 button');\n",
              "      quickchartButtonEl.style.display =\n",
              "        google.colab.kernel.accessAllowed ? 'block' : 'none';\n",
              "    })();\n",
              "  </script>\n",
              "</div>\n",
              "    </div>\n",
              "  </div>\n"
            ]
          },
          "metadata": {},
          "execution_count": 8
        }
      ]
    },
    {
      "metadata": {
        "trusted": true,
        "id": "xpduSegNbVru"
      },
      "cell_type": "code",
      "source": [
        "# Preparing the data for machine learning\n",
        "X = global_temp.iloc[:, global_temp.columns != 'LandAndOceanAverageTemperature'].values\n",
        "y = global_temp.iloc[:, global_temp.columns == 'LandAndOceanAverageTemperature'].values"
      ],
      "execution_count": null,
      "outputs": []
    },
    {
      "metadata": {
        "trusted": true,
        "id": "NNQYPPpPbVru"
      },
      "cell_type": "code",
      "source": [
        "y.head"
      ],
      "execution_count": null,
      "outputs": []
    },
    {
      "metadata": {
        "trusted": true,
        "id": "teGsZGzzbVru"
      },
      "cell_type": "code",
      "source": [
        "# Splitting the dataset into the Training set and Test set\n",
        "from sklearn.model_selection import train_test_split\n",
        "X_train, X_test, y_train, y_test = train_test_split(X, y, test_size = 0.2, random_state = 0)"
      ],
      "execution_count": null,
      "outputs": []
    },
    {
      "metadata": {
        "trusted": true,
        "id": "WbboYLVobVrv",
        "outputId": "be997f1b-ff60-443f-b89d-0f9613bb6c29"
      },
      "cell_type": "code",
      "source": [
        "X_train"
      ],
      "execution_count": null,
      "outputs": [
        {
          "output_type": "execute_result",
          "execution_count": 88,
          "data": {
            "text/plain": "array([['1957'],\n       ['1874'],\n       ['2000'],\n       ['2001'],\n       ['1869'],\n       ['1979'],\n       ['1921'],\n       ['1987'],\n       ['1866'],\n       ['1969'],\n       ['1963'],\n       ['1890'],\n       ['1930'],\n       ['1872'],\n       ['2007'],\n       ['1998'],\n       ['1971'],\n       ['1933'],\n       ['1958'],\n       ['1877'],\n       ['1944'],\n       ['1981'],\n       ['1942'],\n       ['1913'],\n       ['1962'],\n       ['1868'],\n       ['1924'],\n       ['1916'],\n       ['1880'],\n       ['1961'],\n       ['1912'],\n       ['1852'],\n       ['1909'],\n       ['1940'],\n       ['1960'],\n       ['1893'],\n       ['1860'],\n       ['1939'],\n       ['2010'],\n       ['1954'],\n       ['1947'],\n       ['1936'],\n       ['1983'],\n       ['2009'],\n       ['1900'],\n       ['1959'],\n       ['1968'],\n       ['1914'],\n       ['1995'],\n       ['2014'],\n       ['1919'],\n       ['1899'],\n       ['1898'],\n       ['1935'],\n       ['1863'],\n       ['1988'],\n       ['1873'],\n       ['1973'],\n       ['1870'],\n       ['1865'],\n       ['1928'],\n       ['1902'],\n       ['1926'],\n       ['1853'],\n       ['2015'],\n       ['1951'],\n       ['1856'],\n       ['1918'],\n       ['1925'],\n       ['1934'],\n       ['1974'],\n       ['1862'],\n       ['1980'],\n       ['1992'],\n       ['1864'],\n       ['1850'],\n       ['1941'],\n       ['1993'],\n       ['1896'],\n       ['1861'],\n       ['1952'],\n       ['1885'],\n       ['1907'],\n       ['1891'],\n       ['2012'],\n       ['1915'],\n       ['1851'],\n       ['1970'],\n       ['1986'],\n       ['2004'],\n       ['1892'],\n       ['1955'],\n       ['1854'],\n       ['1994'],\n       ['1867'],\n       ['1888'],\n       ['1903'],\n       ['1982'],\n       ['1978'],\n       ['1884'],\n       ['1878'],\n       ['1964'],\n       ['1881'],\n       ['2005'],\n       ['1977'],\n       ['1996'],\n       ['1882'],\n       ['1879'],\n       ['1949'],\n       ['1932'],\n       ['1929'],\n       ['1965'],\n       ['2011'],\n       ['1922'],\n       ['1927'],\n       ['1875'],\n       ['1931'],\n       ['2006'],\n       ['2008'],\n       ['1889'],\n       ['1908'],\n       ['1990'],\n       ['1938'],\n       ['1920'],\n       ['1937'],\n       ['1886'],\n       ['1871'],\n       ['1859'],\n       ['1953'],\n       ['1917'],\n       ['1967'],\n       ['1897']], dtype=object)"
          },
          "metadata": {}
        }
      ]
    },
    {
      "metadata": {
        "trusted": true,
        "id": "jP6deg4YbVrv",
        "outputId": "2c98b4c7-3c7a-4111-e417-2bed36d26e8c"
      },
      "cell_type": "code",
      "source": [
        "# Fitting a linear regression to the training set\n",
        "from sklearn.linear_model import LinearRegression\n",
        "regressor = LinearRegression()\n",
        "regressor.fit(X_train, y_train)"
      ],
      "execution_count": null,
      "outputs": [
        {
          "output_type": "execute_result",
          "execution_count": 89,
          "data": {
            "text/plain": "LinearRegression(copy_X=True, fit_intercept=True, n_jobs=None, normalize=False)"
          },
          "metadata": {}
        }
      ]
    },
    {
      "metadata": {
        "trusted": true,
        "id": "hvp4vxEWbVrv"
      },
      "cell_type": "code",
      "source": [
        "# Predicting the test set results\n",
        "y_pred = regressor.predict(X_test)"
      ],
      "execution_count": null,
      "outputs": []
    },
    {
      "metadata": {
        "trusted": true,
        "id": "7YCrc_zzbVrv"
      },
      "cell_type": "code",
      "source": [
        "X_train = X_train.astype('float64')\n",
        "y_train = y_train.astype('float64')\n",
        "X_test = X_test.astype('float64')\n",
        "y_test = y_test.astype('float64')"
      ],
      "execution_count": null,
      "outputs": []
    },
    {
      "metadata": {
        "trusted": true,
        "id": "wgJmiLE4bVrv",
        "outputId": "acf97b09-4f25-48a9-a0f1-26a60bf9a472"
      },
      "cell_type": "code",
      "source": [
        "# Visualising the training set results\n",
        "plt.scatter(X_train, y_train, color = 'green')\n",
        "plt.plot(X_train, regressor.predict(X_train), color = 'blue')\n",
        "plt.title('Average Global Temperature (Training Set)')\n",
        "plt.xlabel('Year')\n",
        "plt.ylabel('Temperatre (c)')\n",
        "plt.show()"
      ],
      "execution_count": null,
      "outputs": [
        {
          "output_type": "display_data",
          "data": {
            "text/plain": "<Figure size 432x288 with 1 Axes>",
            "image/png": "[encoded data removed]"
          },
          "metadata": {
            "needs_background": "light"
          }
        }
      ]
    },
    {
      "metadata": {
        "trusted": true,
        "id": "WVESNyn1bVrw",
        "outputId": "623318ad-7898-49c8-dd88-9bc7d7468835"
      },
      "cell_type": "code",
      "source": [
        "# Visualising the test set results\n",
        "plt.scatter(X_test, y_test, color = 'red')\n",
        "plt.plot(X_train, regressor.predict(X_train), color = 'blue')\n",
        "plt.title('Average Global Temperature (Test set)')\n",
        "plt.xlabel('Year')\n",
        "plt.ylabel('Temperature(c)')\n",
        "plt.show()"
      ],
      "execution_count": null,
      "outputs": [
        {
          "output_type": "display_data",
          "data": {
            "text/plain": "<Figure size 432x288 with 1 Axes>",
            "image/png": "[encoded data removed]"
          },
          "metadata": {
            "needs_background": "light"
          }
        }
      ]
    },
    {
      "metadata": {
        "trusted": true,
        "id": "pCD6xIGEbVrw",
        "outputId": "c95365e3-688f-4b7b-f36e-6c077c1045c5"
      },
      "cell_type": "code",
      "source": [
        "# Building the predictor\n",
        "X_predict = [2050] # Enter the year that you require the temperature for\n",
        "X_predict = np.array(X_predict).reshape(1, -1)#\n",
        "y_predict = regressor.predict(X_predict)\n",
        "\n",
        "# Outputting the predicted temperature of the year above\n",
        "y_predict"
      ],
      "execution_count": null,
      "outputs": [
        {
          "output_type": "execute_result",
          "execution_count": 96,
          "data": {
            "text/plain": "array([[15.84463563]])"
          },
          "metadata": {}
        }
      ]
    },
    {
      "metadata": {
        "id": "HdbpxJNKbVrw"
      },
      "cell_type": "markdown",
      "source": [
        "The average global temperature is likely to increase to 15.84 degrees celcius by 2050. That is an increase of circa 0.2 degrees between now and then and this is taking into account the combination average of sea and land temperatures."
      ]
    }
  ],
  "metadata": {
    "kernelspec": {
      "language": "python",
      "display_name": "Python 3",
      "name": "python3"
    },
    "language_info": {
      "pygments_lexer": "ipython3",
      "nbconvert_exporter": "python",
      "version": "3.6.4",
      "file_extension": ".py",
      "codemirror_mode": {
        "name": "ipython",
        "version": 3
      },
      "name": "python",
      "mimetype": "text/x-python"
    },
    "colab": {
      "provenance": [],
      "include_colab_link": true
    }
  },
  "nbformat": 4,
  "nbformat_minor": 0
}